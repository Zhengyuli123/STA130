{
 "cells": [
  {
   "cell_type": "markdown",
   "id": "0f2680ae",
   "metadata": {},
   "source": [
    "Question 1:"
   ]
  },
  {
   "cell_type": "markdown",
   "id": "38b549e7",
   "metadata": {},
   "source": [
    "The Simple Linear Regression model is the equation we use to express this straight line through the data:\n",
    "𝑌𝑖 = 𝛽0 + 𝛽1𝑥𝑖 + 𝜖𝑖\n",
    "𝑌𝑖: The outcome we’re predicting for each individual data point i.\n",
    "𝛽0: The intercept coefficient that tells us the expected value of y when x=0.\n",
    "𝛽1: The slope coefficient that how much y is expected to increase when x increases by 1 unit.\n",
    "𝑥𝑖: The predictor variable for each data point i.\n",
    "𝜖𝑖: The error term that accounts for randomness that causes y to not fall exactly on the line for each x."
   ]
  },
  {
   "cell_type": "markdown",
   "id": "07b33fbe",
   "metadata": {},
   "source": [
    "How they combine to form a sample from normal distribution:"
   ]
  },
  {
   "cell_type": "markdown",
   "id": "5a1efaf6",
   "metadata": {},
   "source": [
    "Given a predictor value, the expected y-value for that 𝑥𝑖 based on the linear model is 𝛽0 + 𝛽1𝑥𝑖. Since there exists the error term 𝜖𝑖, the observed 𝑌𝑖 value is usually different from this line. This makes each observed 𝑌𝑖 a random variable with its own normal distribution centered around 𝛽0 + 𝛽1𝑥𝑖 with standard deviation 𝜎 , where 𝜖𝑖∼N(0,𝜎2) and 𝑌𝑖∼N(𝛽0+𝛽1𝑥𝑖,𝜎2)."
   ]
  },
  {
   "cell_type": "code",
   "execution_count": 10,
   "id": "153bc5dd",
   "metadata": {
    "collapsed": true
   },
   "outputs": [
    {
     "data": {
      "application/vnd.plotly.v1+json": {
       "config": {
        "plotlyServerURL": "https://plot.ly"
       },
       "data": [
        {
         "mode": "markers",
         "name": "Sampled Data Points",
         "type": "scatter",
         "x": [
          0,
          0.20408163265306123,
          0.40816326530612246,
          0.6122448979591837,
          0.8163265306122449,
          1.0204081632653061,
          1.2244897959183674,
          1.4285714285714286,
          1.6326530612244898,
          1.836734693877551,
          2.0408163265306123,
          2.2448979591836737,
          2.4489795918367347,
          2.6530612244897958,
          2.857142857142857,
          3.0612244897959187,
          3.2653061224489797,
          3.4693877551020407,
          3.673469387755102,
          3.8775510204081636,
          4.081632653061225,
          4.285714285714286,
          4.4897959183673475,
          4.6938775510204085,
          4.8979591836734695,
          5.1020408163265305,
          5.3061224489795915,
          5.510204081632653,
          5.714285714285714,
          5.918367346938775,
          6.122448979591837,
          6.326530612244898,
          6.530612244897959,
          6.73469387755102,
          6.938775510204081,
          7.142857142857143,
          7.346938775510204,
          7.551020408163265,
          7.755102040816327,
          7.959183673469388,
          8.16326530612245,
          8.36734693877551,
          8.571428571428571,
          8.775510204081632,
          8.979591836734695,
          9.183673469387756,
          9.387755102040817,
          9.591836734693878,
          9.795918367346939,
          10
         ],
         "y": [
          1.646006088746516,
          0.9311711555615731,
          1.9686264951262933,
          0.6949641947143488,
          3.849721246945555,
          1.9285545892912117,
          2.7323513544491003,
          4.195022222118117,
          3.7094165954454215,
          6.298116636223063,
          3.76836758007247,
          5.634397808124693,
          5.634186569527606,
          4.811498338993496,
          6.808990946246039,
          6.42029040347163,
          7.669749734887137,
          8.027585786616793,
          9.673440030913344,
          9.152854480048639,
          7.753267141649394,
          8.189192250995502,
          9.834353473438133,
          9.696080057253212,
          9.987070301607796,
          8.036105180178962,
          9.93485754907045,
          9.527275213243291,
          10.851353170471809,
          10.779400630765204,
          12.093852377480347,
          11.80701413355865,
          12.582246329455915,
          11.635621719590587,
          11.46371700938787,
          12.304236021083167,
          13.003387749403867,
          13.70568234779998,
          15.891962011915343,
          13.896518358543439,
          13.288952958690897,
          14.205038632463879,
          14.393546882496764,
          15.64474677989591,
          13.928590740657418,
          15.838772198281966,
          16.2381391910266,
          16.619936138241094,
          16.096561482055044,
          16.76207827026399
         ]
        },
        {
         "mode": "lines",
         "name": "True Model Line",
         "type": "scatter",
         "x": [
          0,
          0.20408163265306123,
          0.40816326530612246,
          0.6122448979591837,
          0.8163265306122449,
          1.0204081632653061,
          1.2244897959183674,
          1.4285714285714286,
          1.6326530612244898,
          1.836734693877551,
          2.0408163265306123,
          2.2448979591836737,
          2.4489795918367347,
          2.6530612244897958,
          2.857142857142857,
          3.0612244897959187,
          3.2653061224489797,
          3.4693877551020407,
          3.673469387755102,
          3.8775510204081636,
          4.081632653061225,
          4.285714285714286,
          4.4897959183673475,
          4.6938775510204085,
          4.8979591836734695,
          5.1020408163265305,
          5.3061224489795915,
          5.510204081632653,
          5.714285714285714,
          5.918367346938775,
          6.122448979591837,
          6.326530612244898,
          6.530612244897959,
          6.73469387755102,
          6.938775510204081,
          7.142857142857143,
          7.346938775510204,
          7.551020408163265,
          7.755102040816327,
          7.959183673469388,
          8.16326530612245,
          8.36734693877551,
          8.571428571428571,
          8.775510204081632,
          8.979591836734695,
          9.183673469387756,
          9.387755102040817,
          9.591836734693878,
          9.795918367346939,
          10
         ],
         "y": [
          2,
          2.306122448979592,
          2.612244897959184,
          2.9183673469387754,
          3.2244897959183674,
          3.5306122448979593,
          3.836734693877551,
          4.142857142857142,
          4.448979591836735,
          4.755102040816327,
          5.061224489795919,
          5.36734693877551,
          5.673469387755102,
          5.979591836734693,
          6.285714285714286,
          6.591836734693878,
          6.8979591836734695,
          7.204081632653061,
          7.510204081632653,
          7.816326530612246,
          8.122448979591837,
          8.428571428571429,
          8.73469387755102,
          9.040816326530614,
          9.346938775510203,
          9.653061224489797,
          9.959183673469386,
          10.26530612244898,
          10.571428571428571,
          10.877551020408163,
          11.183673469387756,
          11.489795918367347,
          11.795918367346939,
          12.10204081632653,
          12.408163265306122,
          12.714285714285715,
          13.020408163265307,
          13.326530612244898,
          13.632653061224492,
          13.938775510204081,
          14.244897959183675,
          14.551020408163264,
          14.857142857142858,
          15.163265306122447,
          15.469387755102042,
          15.775510204081634,
          16.081632653061227,
          16.387755102040817,
          16.693877551020407,
          17
         ]
        }
       ],
       "layout": {
        "showlegend": true,
        "template": {
         "data": {
          "bar": [
           {
            "error_x": {
             "color": "#2a3f5f"
            },
            "error_y": {
             "color": "#2a3f5f"
            },
            "marker": {
             "line": {
              "color": "#E5ECF6",
              "width": 0.5
             },
             "pattern": {
              "fillmode": "overlay",
              "size": 10,
              "solidity": 0.2
             }
            },
            "type": "bar"
           }
          ],
          "barpolar": [
           {
            "marker": {
             "line": {
              "color": "#E5ECF6",
              "width": 0.5
             },
             "pattern": {
              "fillmode": "overlay",
              "size": 10,
              "solidity": 0.2
             }
            },
            "type": "barpolar"
           }
          ],
          "carpet": [
           {
            "aaxis": {
             "endlinecolor": "#2a3f5f",
             "gridcolor": "white",
             "linecolor": "white",
             "minorgridcolor": "white",
             "startlinecolor": "#2a3f5f"
            },
            "baxis": {
             "endlinecolor": "#2a3f5f",
             "gridcolor": "white",
             "linecolor": "white",
             "minorgridcolor": "white",
             "startlinecolor": "#2a3f5f"
            },
            "type": "carpet"
           }
          ],
          "choropleth": [
           {
            "colorbar": {
             "outlinewidth": 0,
             "ticks": ""
            },
            "type": "choropleth"
           }
          ],
          "contour": [
           {
            "colorbar": {
             "outlinewidth": 0,
             "ticks": ""
            },
            "colorscale": [
             [
              0,
              "#0d0887"
             ],
             [
              0.1111111111111111,
              "#46039f"
             ],
             [
              0.2222222222222222,
              "#7201a8"
             ],
             [
              0.3333333333333333,
              "#9c179e"
             ],
             [
              0.4444444444444444,
              "#bd3786"
             ],
             [
              0.5555555555555556,
              "#d8576b"
             ],
             [
              0.6666666666666666,
              "#ed7953"
             ],
             [
              0.7777777777777778,
              "#fb9f3a"
             ],
             [
              0.8888888888888888,
              "#fdca26"
             ],
             [
              1,
              "#f0f921"
             ]
            ],
            "type": "contour"
           }
          ],
          "contourcarpet": [
           {
            "colorbar": {
             "outlinewidth": 0,
             "ticks": ""
            },
            "type": "contourcarpet"
           }
          ],
          "heatmap": [
           {
            "colorbar": {
             "outlinewidth": 0,
             "ticks": ""
            },
            "colorscale": [
             [
              0,
              "#0d0887"
             ],
             [
              0.1111111111111111,
              "#46039f"
             ],
             [
              0.2222222222222222,
              "#7201a8"
             ],
             [
              0.3333333333333333,
              "#9c179e"
             ],
             [
              0.4444444444444444,
              "#bd3786"
             ],
             [
              0.5555555555555556,
              "#d8576b"
             ],
             [
              0.6666666666666666,
              "#ed7953"
             ],
             [
              0.7777777777777778,
              "#fb9f3a"
             ],
             [
              0.8888888888888888,
              "#fdca26"
             ],
             [
              1,
              "#f0f921"
             ]
            ],
            "type": "heatmap"
           }
          ],
          "heatmapgl": [
           {
            "colorbar": {
             "outlinewidth": 0,
             "ticks": ""
            },
            "colorscale": [
             [
              0,
              "#0d0887"
             ],
             [
              0.1111111111111111,
              "#46039f"
             ],
             [
              0.2222222222222222,
              "#7201a8"
             ],
             [
              0.3333333333333333,
              "#9c179e"
             ],
             [
              0.4444444444444444,
              "#bd3786"
             ],
             [
              0.5555555555555556,
              "#d8576b"
             ],
             [
              0.6666666666666666,
              "#ed7953"
             ],
             [
              0.7777777777777778,
              "#fb9f3a"
             ],
             [
              0.8888888888888888,
              "#fdca26"
             ],
             [
              1,
              "#f0f921"
             ]
            ],
            "type": "heatmapgl"
           }
          ],
          "histogram": [
           {
            "marker": {
             "pattern": {
              "fillmode": "overlay",
              "size": 10,
              "solidity": 0.2
             }
            },
            "type": "histogram"
           }
          ],
          "histogram2d": [
           {
            "colorbar": {
             "outlinewidth": 0,
             "ticks": ""
            },
            "colorscale": [
             [
              0,
              "#0d0887"
             ],
             [
              0.1111111111111111,
              "#46039f"
             ],
             [
              0.2222222222222222,
              "#7201a8"
             ],
             [
              0.3333333333333333,
              "#9c179e"
             ],
             [
              0.4444444444444444,
              "#bd3786"
             ],
             [
              0.5555555555555556,
              "#d8576b"
             ],
             [
              0.6666666666666666,
              "#ed7953"
             ],
             [
              0.7777777777777778,
              "#fb9f3a"
             ],
             [
              0.8888888888888888,
              "#fdca26"
             ],
             [
              1,
              "#f0f921"
             ]
            ],
            "type": "histogram2d"
           }
          ],
          "histogram2dcontour": [
           {
            "colorbar": {
             "outlinewidth": 0,
             "ticks": ""
            },
            "colorscale": [
             [
              0,
              "#0d0887"
             ],
             [
              0.1111111111111111,
              "#46039f"
             ],
             [
              0.2222222222222222,
              "#7201a8"
             ],
             [
              0.3333333333333333,
              "#9c179e"
             ],
             [
              0.4444444444444444,
              "#bd3786"
             ],
             [
              0.5555555555555556,
              "#d8576b"
             ],
             [
              0.6666666666666666,
              "#ed7953"
             ],
             [
              0.7777777777777778,
              "#fb9f3a"
             ],
             [
              0.8888888888888888,
              "#fdca26"
             ],
             [
              1,
              "#f0f921"
             ]
            ],
            "type": "histogram2dcontour"
           }
          ],
          "mesh3d": [
           {
            "colorbar": {
             "outlinewidth": 0,
             "ticks": ""
            },
            "type": "mesh3d"
           }
          ],
          "parcoords": [
           {
            "line": {
             "colorbar": {
              "outlinewidth": 0,
              "ticks": ""
             }
            },
            "type": "parcoords"
           }
          ],
          "pie": [
           {
            "automargin": true,
            "type": "pie"
           }
          ],
          "scatter": [
           {
            "fillpattern": {
             "fillmode": "overlay",
             "size": 10,
             "solidity": 0.2
            },
            "type": "scatter"
           }
          ],
          "scatter3d": [
           {
            "line": {
             "colorbar": {
              "outlinewidth": 0,
              "ticks": ""
             }
            },
            "marker": {
             "colorbar": {
              "outlinewidth": 0,
              "ticks": ""
             }
            },
            "type": "scatter3d"
           }
          ],
          "scattercarpet": [
           {
            "marker": {
             "colorbar": {
              "outlinewidth": 0,
              "ticks": ""
             }
            },
            "type": "scattercarpet"
           }
          ],
          "scattergeo": [
           {
            "marker": {
             "colorbar": {
              "outlinewidth": 0,
              "ticks": ""
             }
            },
            "type": "scattergeo"
           }
          ],
          "scattergl": [
           {
            "marker": {
             "colorbar": {
              "outlinewidth": 0,
              "ticks": ""
             }
            },
            "type": "scattergl"
           }
          ],
          "scattermapbox": [
           {
            "marker": {
             "colorbar": {
              "outlinewidth": 0,
              "ticks": ""
             }
            },
            "type": "scattermapbox"
           }
          ],
          "scatterpolar": [
           {
            "marker": {
             "colorbar": {
              "outlinewidth": 0,
              "ticks": ""
             }
            },
            "type": "scatterpolar"
           }
          ],
          "scatterpolargl": [
           {
            "marker": {
             "colorbar": {
              "outlinewidth": 0,
              "ticks": ""
             }
            },
            "type": "scatterpolargl"
           }
          ],
          "scatterternary": [
           {
            "marker": {
             "colorbar": {
              "outlinewidth": 0,
              "ticks": ""
             }
            },
            "type": "scatterternary"
           }
          ],
          "surface": [
           {
            "colorbar": {
             "outlinewidth": 0,
             "ticks": ""
            },
            "colorscale": [
             [
              0,
              "#0d0887"
             ],
             [
              0.1111111111111111,
              "#46039f"
             ],
             [
              0.2222222222222222,
              "#7201a8"
             ],
             [
              0.3333333333333333,
              "#9c179e"
             ],
             [
              0.4444444444444444,
              "#bd3786"
             ],
             [
              0.5555555555555556,
              "#d8576b"
             ],
             [
              0.6666666666666666,
              "#ed7953"
             ],
             [
              0.7777777777777778,
              "#fb9f3a"
             ],
             [
              0.8888888888888888,
              "#fdca26"
             ],
             [
              1,
              "#f0f921"
             ]
            ],
            "type": "surface"
           }
          ],
          "table": [
           {
            "cells": {
             "fill": {
              "color": "#EBF0F8"
             },
             "line": {
              "color": "white"
             }
            },
            "header": {
             "fill": {
              "color": "#C8D4E3"
             },
             "line": {
              "color": "white"
             }
            },
            "type": "table"
           }
          ]
         },
         "layout": {
          "annotationdefaults": {
           "arrowcolor": "#2a3f5f",
           "arrowhead": 0,
           "arrowwidth": 1
          },
          "autotypenumbers": "strict",
          "coloraxis": {
           "colorbar": {
            "outlinewidth": 0,
            "ticks": ""
           }
          },
          "colorscale": {
           "diverging": [
            [
             0,
             "#8e0152"
            ],
            [
             0.1,
             "#c51b7d"
            ],
            [
             0.2,
             "#de77ae"
            ],
            [
             0.3,
             "#f1b6da"
            ],
            [
             0.4,
             "#fde0ef"
            ],
            [
             0.5,
             "#f7f7f7"
            ],
            [
             0.6,
             "#e6f5d0"
            ],
            [
             0.7,
             "#b8e186"
            ],
            [
             0.8,
             "#7fbc41"
            ],
            [
             0.9,
             "#4d9221"
            ],
            [
             1,
             "#276419"
            ]
           ],
           "sequential": [
            [
             0,
             "#0d0887"
            ],
            [
             0.1111111111111111,
             "#46039f"
            ],
            [
             0.2222222222222222,
             "#7201a8"
            ],
            [
             0.3333333333333333,
             "#9c179e"
            ],
            [
             0.4444444444444444,
             "#bd3786"
            ],
            [
             0.5555555555555556,
             "#d8576b"
            ],
            [
             0.6666666666666666,
             "#ed7953"
            ],
            [
             0.7777777777777778,
             "#fb9f3a"
            ],
            [
             0.8888888888888888,
             "#fdca26"
            ],
            [
             1,
             "#f0f921"
            ]
           ],
           "sequentialminus": [
            [
             0,
             "#0d0887"
            ],
            [
             0.1111111111111111,
             "#46039f"
            ],
            [
             0.2222222222222222,
             "#7201a8"
            ],
            [
             0.3333333333333333,
             "#9c179e"
            ],
            [
             0.4444444444444444,
             "#bd3786"
            ],
            [
             0.5555555555555556,
             "#d8576b"
            ],
            [
             0.6666666666666666,
             "#ed7953"
            ],
            [
             0.7777777777777778,
             "#fb9f3a"
            ],
            [
             0.8888888888888888,
             "#fdca26"
            ],
            [
             1,
             "#f0f921"
            ]
           ]
          },
          "colorway": [
           "#636efa",
           "#EF553B",
           "#00cc96",
           "#ab63fa",
           "#FFA15A",
           "#19d3f3",
           "#FF6692",
           "#B6E880",
           "#FF97FF",
           "#FECB52"
          ],
          "font": {
           "color": "#2a3f5f"
          },
          "geo": {
           "bgcolor": "white",
           "lakecolor": "white",
           "landcolor": "#E5ECF6",
           "showlakes": true,
           "showland": true,
           "subunitcolor": "white"
          },
          "hoverlabel": {
           "align": "left"
          },
          "hovermode": "closest",
          "mapbox": {
           "style": "light"
          },
          "paper_bgcolor": "white",
          "plot_bgcolor": "#E5ECF6",
          "polar": {
           "angularaxis": {
            "gridcolor": "white",
            "linecolor": "white",
            "ticks": ""
           },
           "bgcolor": "#E5ECF6",
           "radialaxis": {
            "gridcolor": "white",
            "linecolor": "white",
            "ticks": ""
           }
          },
          "scene": {
           "xaxis": {
            "backgroundcolor": "#E5ECF6",
            "gridcolor": "white",
            "gridwidth": 2,
            "linecolor": "white",
            "showbackground": true,
            "ticks": "",
            "zerolinecolor": "white"
           },
           "yaxis": {
            "backgroundcolor": "#E5ECF6",
            "gridcolor": "white",
            "gridwidth": 2,
            "linecolor": "white",
            "showbackground": true,
            "ticks": "",
            "zerolinecolor": "white"
           },
           "zaxis": {
            "backgroundcolor": "#E5ECF6",
            "gridcolor": "white",
            "gridwidth": 2,
            "linecolor": "white",
            "showbackground": true,
            "ticks": "",
            "zerolinecolor": "white"
           }
          },
          "shapedefaults": {
           "line": {
            "color": "#2a3f5f"
           }
          },
          "ternary": {
           "aaxis": {
            "gridcolor": "white",
            "linecolor": "white",
            "ticks": ""
           },
           "baxis": {
            "gridcolor": "white",
            "linecolor": "white",
            "ticks": ""
           },
           "bgcolor": "#E5ECF6",
           "caxis": {
            "gridcolor": "white",
            "linecolor": "white",
            "ticks": ""
           }
          },
          "title": {
           "x": 0.05
          },
          "xaxis": {
           "automargin": true,
           "gridcolor": "white",
           "linecolor": "white",
           "ticks": "",
           "title": {
            "standoff": 15
           },
           "zerolinecolor": "white",
           "zerolinewidth": 2
          },
          "yaxis": {
           "automargin": true,
           "gridcolor": "white",
           "linecolor": "white",
           "ticks": "",
           "title": {
            "standoff": 15
           },
           "zerolinecolor": "white",
           "zerolinewidth": 2
          }
         }
        },
        "title": {
         "text": "Simple Linear Regression: Normally Distributed Samples around Theoretical Line"
        },
        "xaxis": {
         "title": {
          "text": "Predictor (x)"
         }
        },
        "yaxis": {
         "title": {
          "text": "Outcome (y)"
         }
        }
       }
      },
      "text/html": [
       "<div>                            <div id=\"9d82305b-5180-4912-bc63-e7c70875eee0\" class=\"plotly-graph-div\" style=\"height:525px; width:100%;\"></div>            <script type=\"text/javascript\">                require([\"plotly\"], function(Plotly) {                    window.PLOTLYENV=window.PLOTLYENV || {};                                    if (document.getElementById(\"9d82305b-5180-4912-bc63-e7c70875eee0\")) {                    Plotly.newPlot(                        \"9d82305b-5180-4912-bc63-e7c70875eee0\",                        [{\"mode\":\"markers\",\"name\":\"Sampled Data Points\",\"x\":[0.0,0.20408163265306123,0.40816326530612246,0.6122448979591837,0.8163265306122449,1.0204081632653061,1.2244897959183674,1.4285714285714286,1.6326530612244898,1.836734693877551,2.0408163265306123,2.2448979591836737,2.4489795918367347,2.6530612244897958,2.857142857142857,3.0612244897959187,3.2653061224489797,3.4693877551020407,3.673469387755102,3.8775510204081636,4.081632653061225,4.285714285714286,4.4897959183673475,4.6938775510204085,4.8979591836734695,5.1020408163265305,5.3061224489795915,5.510204081632653,5.714285714285714,5.918367346938775,6.122448979591837,6.326530612244898,6.530612244897959,6.73469387755102,6.938775510204081,7.142857142857143,7.346938775510204,7.551020408163265,7.755102040816327,7.959183673469388,8.16326530612245,8.36734693877551,8.571428571428571,8.775510204081632,8.979591836734695,9.183673469387756,9.387755102040817,9.591836734693878,9.795918367346939,10.0],\"y\":[1.646006088746516,0.9311711555615731,1.9686264951262933,0.6949641947143488,3.849721246945555,1.9285545892912117,2.7323513544491003,4.195022222118117,3.7094165954454215,6.298116636223063,3.76836758007247,5.634397808124693,5.634186569527606,4.811498338993496,6.808990946246039,6.42029040347163,7.669749734887137,8.027585786616793,9.673440030913344,9.152854480048639,7.753267141649394,8.189192250995502,9.834353473438133,9.696080057253212,9.987070301607796,8.036105180178962,9.93485754907045,9.527275213243291,10.851353170471809,10.779400630765204,12.093852377480347,11.80701413355865,12.582246329455915,11.635621719590587,11.46371700938787,12.304236021083167,13.003387749403867,13.70568234779998,15.891962011915343,13.896518358543439,13.288952958690897,14.205038632463879,14.393546882496764,15.64474677989591,13.928590740657418,15.838772198281966,16.2381391910266,16.619936138241094,16.096561482055044,16.76207827026399],\"type\":\"scatter\"},{\"mode\":\"lines\",\"name\":\"True Model Line\",\"x\":[0.0,0.20408163265306123,0.40816326530612246,0.6122448979591837,0.8163265306122449,1.0204081632653061,1.2244897959183674,1.4285714285714286,1.6326530612244898,1.836734693877551,2.0408163265306123,2.2448979591836737,2.4489795918367347,2.6530612244897958,2.857142857142857,3.0612244897959187,3.2653061224489797,3.4693877551020407,3.673469387755102,3.8775510204081636,4.081632653061225,4.285714285714286,4.4897959183673475,4.6938775510204085,4.8979591836734695,5.1020408163265305,5.3061224489795915,5.510204081632653,5.714285714285714,5.918367346938775,6.122448979591837,6.326530612244898,6.530612244897959,6.73469387755102,6.938775510204081,7.142857142857143,7.346938775510204,7.551020408163265,7.755102040816327,7.959183673469388,8.16326530612245,8.36734693877551,8.571428571428571,8.775510204081632,8.979591836734695,9.183673469387756,9.387755102040817,9.591836734693878,9.795918367346939,10.0],\"y\":[2.0,2.306122448979592,2.612244897959184,2.9183673469387754,3.2244897959183674,3.5306122448979593,3.836734693877551,4.142857142857142,4.448979591836735,4.755102040816327,5.061224489795919,5.36734693877551,5.673469387755102,5.979591836734693,6.285714285714286,6.591836734693878,6.8979591836734695,7.204081632653061,7.510204081632653,7.816326530612246,8.122448979591837,8.428571428571429,8.73469387755102,9.040816326530614,9.346938775510203,9.653061224489797,9.959183673469386,10.26530612244898,10.571428571428571,10.877551020408163,11.183673469387756,11.489795918367347,11.795918367346939,12.10204081632653,12.408163265306122,12.714285714285715,13.020408163265307,13.326530612244898,13.632653061224492,13.938775510204081,14.244897959183675,14.551020408163264,14.857142857142858,15.163265306122447,15.469387755102042,15.775510204081634,16.081632653061227,16.387755102040817,16.693877551020407,17.0],\"type\":\"scatter\"}],                        {\"template\":{\"data\":{\"histogram2dcontour\":[{\"type\":\"histogram2dcontour\",\"colorbar\":{\"outlinewidth\":0,\"ticks\":\"\"},\"colorscale\":[[0.0,\"#0d0887\"],[0.1111111111111111,\"#46039f\"],[0.2222222222222222,\"#7201a8\"],[0.3333333333333333,\"#9c179e\"],[0.4444444444444444,\"#bd3786\"],[0.5555555555555556,\"#d8576b\"],[0.6666666666666666,\"#ed7953\"],[0.7777777777777778,\"#fb9f3a\"],[0.8888888888888888,\"#fdca26\"],[1.0,\"#f0f921\"]]}],\"choropleth\":[{\"type\":\"choropleth\",\"colorbar\":{\"outlinewidth\":0,\"ticks\":\"\"}}],\"histogram2d\":[{\"type\":\"histogram2d\",\"colorbar\":{\"outlinewidth\":0,\"ticks\":\"\"},\"colorscale\":[[0.0,\"#0d0887\"],[0.1111111111111111,\"#46039f\"],[0.2222222222222222,\"#7201a8\"],[0.3333333333333333,\"#9c179e\"],[0.4444444444444444,\"#bd3786\"],[0.5555555555555556,\"#d8576b\"],[0.6666666666666666,\"#ed7953\"],[0.7777777777777778,\"#fb9f3a\"],[0.8888888888888888,\"#fdca26\"],[1.0,\"#f0f921\"]]}],\"heatmap\":[{\"type\":\"heatmap\",\"colorbar\":{\"outlinewidth\":0,\"ticks\":\"\"},\"colorscale\":[[0.0,\"#0d0887\"],[0.1111111111111111,\"#46039f\"],[0.2222222222222222,\"#7201a8\"],[0.3333333333333333,\"#9c179e\"],[0.4444444444444444,\"#bd3786\"],[0.5555555555555556,\"#d8576b\"],[0.6666666666666666,\"#ed7953\"],[0.7777777777777778,\"#fb9f3a\"],[0.8888888888888888,\"#fdca26\"],[1.0,\"#f0f921\"]]}],\"heatmapgl\":[{\"type\":\"heatmapgl\",\"colorbar\":{\"outlinewidth\":0,\"ticks\":\"\"},\"colorscale\":[[0.0,\"#0d0887\"],[0.1111111111111111,\"#46039f\"],[0.2222222222222222,\"#7201a8\"],[0.3333333333333333,\"#9c179e\"],[0.4444444444444444,\"#bd3786\"],[0.5555555555555556,\"#d8576b\"],[0.6666666666666666,\"#ed7953\"],[0.7777777777777778,\"#fb9f3a\"],[0.8888888888888888,\"#fdca26\"],[1.0,\"#f0f921\"]]}],\"contourcarpet\":[{\"type\":\"contourcarpet\",\"colorbar\":{\"outlinewidth\":0,\"ticks\":\"\"}}],\"contour\":[{\"type\":\"contour\",\"colorbar\":{\"outlinewidth\":0,\"ticks\":\"\"},\"colorscale\":[[0.0,\"#0d0887\"],[0.1111111111111111,\"#46039f\"],[0.2222222222222222,\"#7201a8\"],[0.3333333333333333,\"#9c179e\"],[0.4444444444444444,\"#bd3786\"],[0.5555555555555556,\"#d8576b\"],[0.6666666666666666,\"#ed7953\"],[0.7777777777777778,\"#fb9f3a\"],[0.8888888888888888,\"#fdca26\"],[1.0,\"#f0f921\"]]}],\"surface\":[{\"type\":\"surface\",\"colorbar\":{\"outlinewidth\":0,\"ticks\":\"\"},\"colorscale\":[[0.0,\"#0d0887\"],[0.1111111111111111,\"#46039f\"],[0.2222222222222222,\"#7201a8\"],[0.3333333333333333,\"#9c179e\"],[0.4444444444444444,\"#bd3786\"],[0.5555555555555556,\"#d8576b\"],[0.6666666666666666,\"#ed7953\"],[0.7777777777777778,\"#fb9f3a\"],[0.8888888888888888,\"#fdca26\"],[1.0,\"#f0f921\"]]}],\"mesh3d\":[{\"type\":\"mesh3d\",\"colorbar\":{\"outlinewidth\":0,\"ticks\":\"\"}}],\"scatter\":[{\"fillpattern\":{\"fillmode\":\"overlay\",\"size\":10,\"solidity\":0.2},\"type\":\"scatter\"}],\"parcoords\":[{\"type\":\"parcoords\",\"line\":{\"colorbar\":{\"outlinewidth\":0,\"ticks\":\"\"}}}],\"scatterpolargl\":[{\"type\":\"scatterpolargl\",\"marker\":{\"colorbar\":{\"outlinewidth\":0,\"ticks\":\"\"}}}],\"bar\":[{\"error_x\":{\"color\":\"#2a3f5f\"},\"error_y\":{\"color\":\"#2a3f5f\"},\"marker\":{\"line\":{\"color\":\"#E5ECF6\",\"width\":0.5},\"pattern\":{\"fillmode\":\"overlay\",\"size\":10,\"solidity\":0.2}},\"type\":\"bar\"}],\"scattergeo\":[{\"type\":\"scattergeo\",\"marker\":{\"colorbar\":{\"outlinewidth\":0,\"ticks\":\"\"}}}],\"scatterpolar\":[{\"type\":\"scatterpolar\",\"marker\":{\"colorbar\":{\"outlinewidth\":0,\"ticks\":\"\"}}}],\"histogram\":[{\"marker\":{\"pattern\":{\"fillmode\":\"overlay\",\"size\":10,\"solidity\":0.2}},\"type\":\"histogram\"}],\"scattergl\":[{\"type\":\"scattergl\",\"marker\":{\"colorbar\":{\"outlinewidth\":0,\"ticks\":\"\"}}}],\"scatter3d\":[{\"type\":\"scatter3d\",\"line\":{\"colorbar\":{\"outlinewidth\":0,\"ticks\":\"\"}},\"marker\":{\"colorbar\":{\"outlinewidth\":0,\"ticks\":\"\"}}}],\"scattermapbox\":[{\"type\":\"scattermapbox\",\"marker\":{\"colorbar\":{\"outlinewidth\":0,\"ticks\":\"\"}}}],\"scatterternary\":[{\"type\":\"scatterternary\",\"marker\":{\"colorbar\":{\"outlinewidth\":0,\"ticks\":\"\"}}}],\"scattercarpet\":[{\"type\":\"scattercarpet\",\"marker\":{\"colorbar\":{\"outlinewidth\":0,\"ticks\":\"\"}}}],\"carpet\":[{\"aaxis\":{\"endlinecolor\":\"#2a3f5f\",\"gridcolor\":\"white\",\"linecolor\":\"white\",\"minorgridcolor\":\"white\",\"startlinecolor\":\"#2a3f5f\"},\"baxis\":{\"endlinecolor\":\"#2a3f5f\",\"gridcolor\":\"white\",\"linecolor\":\"white\",\"minorgridcolor\":\"white\",\"startlinecolor\":\"#2a3f5f\"},\"type\":\"carpet\"}],\"table\":[{\"cells\":{\"fill\":{\"color\":\"#EBF0F8\"},\"line\":{\"color\":\"white\"}},\"header\":{\"fill\":{\"color\":\"#C8D4E3\"},\"line\":{\"color\":\"white\"}},\"type\":\"table\"}],\"barpolar\":[{\"marker\":{\"line\":{\"color\":\"#E5ECF6\",\"width\":0.5},\"pattern\":{\"fillmode\":\"overlay\",\"size\":10,\"solidity\":0.2}},\"type\":\"barpolar\"}],\"pie\":[{\"automargin\":true,\"type\":\"pie\"}]},\"layout\":{\"autotypenumbers\":\"strict\",\"colorway\":[\"#636efa\",\"#EF553B\",\"#00cc96\",\"#ab63fa\",\"#FFA15A\",\"#19d3f3\",\"#FF6692\",\"#B6E880\",\"#FF97FF\",\"#FECB52\"],\"font\":{\"color\":\"#2a3f5f\"},\"hovermode\":\"closest\",\"hoverlabel\":{\"align\":\"left\"},\"paper_bgcolor\":\"white\",\"plot_bgcolor\":\"#E5ECF6\",\"polar\":{\"bgcolor\":\"#E5ECF6\",\"angularaxis\":{\"gridcolor\":\"white\",\"linecolor\":\"white\",\"ticks\":\"\"},\"radialaxis\":{\"gridcolor\":\"white\",\"linecolor\":\"white\",\"ticks\":\"\"}},\"ternary\":{\"bgcolor\":\"#E5ECF6\",\"aaxis\":{\"gridcolor\":\"white\",\"linecolor\":\"white\",\"ticks\":\"\"},\"baxis\":{\"gridcolor\":\"white\",\"linecolor\":\"white\",\"ticks\":\"\"},\"caxis\":{\"gridcolor\":\"white\",\"linecolor\":\"white\",\"ticks\":\"\"}},\"coloraxis\":{\"colorbar\":{\"outlinewidth\":0,\"ticks\":\"\"}},\"colorscale\":{\"sequential\":[[0.0,\"#0d0887\"],[0.1111111111111111,\"#46039f\"],[0.2222222222222222,\"#7201a8\"],[0.3333333333333333,\"#9c179e\"],[0.4444444444444444,\"#bd3786\"],[0.5555555555555556,\"#d8576b\"],[0.6666666666666666,\"#ed7953\"],[0.7777777777777778,\"#fb9f3a\"],[0.8888888888888888,\"#fdca26\"],[1.0,\"#f0f921\"]],\"sequentialminus\":[[0.0,\"#0d0887\"],[0.1111111111111111,\"#46039f\"],[0.2222222222222222,\"#7201a8\"],[0.3333333333333333,\"#9c179e\"],[0.4444444444444444,\"#bd3786\"],[0.5555555555555556,\"#d8576b\"],[0.6666666666666666,\"#ed7953\"],[0.7777777777777778,\"#fb9f3a\"],[0.8888888888888888,\"#fdca26\"],[1.0,\"#f0f921\"]],\"diverging\":[[0,\"#8e0152\"],[0.1,\"#c51b7d\"],[0.2,\"#de77ae\"],[0.3,\"#f1b6da\"],[0.4,\"#fde0ef\"],[0.5,\"#f7f7f7\"],[0.6,\"#e6f5d0\"],[0.7,\"#b8e186\"],[0.8,\"#7fbc41\"],[0.9,\"#4d9221\"],[1,\"#276419\"]]},\"xaxis\":{\"gridcolor\":\"white\",\"linecolor\":\"white\",\"ticks\":\"\",\"title\":{\"standoff\":15},\"zerolinecolor\":\"white\",\"automargin\":true,\"zerolinewidth\":2},\"yaxis\":{\"gridcolor\":\"white\",\"linecolor\":\"white\",\"ticks\":\"\",\"title\":{\"standoff\":15},\"zerolinecolor\":\"white\",\"automargin\":true,\"zerolinewidth\":2},\"scene\":{\"xaxis\":{\"backgroundcolor\":\"#E5ECF6\",\"gridcolor\":\"white\",\"linecolor\":\"white\",\"showbackground\":true,\"ticks\":\"\",\"zerolinecolor\":\"white\",\"gridwidth\":2},\"yaxis\":{\"backgroundcolor\":\"#E5ECF6\",\"gridcolor\":\"white\",\"linecolor\":\"white\",\"showbackground\":true,\"ticks\":\"\",\"zerolinecolor\":\"white\",\"gridwidth\":2},\"zaxis\":{\"backgroundcolor\":\"#E5ECF6\",\"gridcolor\":\"white\",\"linecolor\":\"white\",\"showbackground\":true,\"ticks\":\"\",\"zerolinecolor\":\"white\",\"gridwidth\":2}},\"shapedefaults\":{\"line\":{\"color\":\"#2a3f5f\"}},\"annotationdefaults\":{\"arrowcolor\":\"#2a3f5f\",\"arrowhead\":0,\"arrowwidth\":1},\"geo\":{\"bgcolor\":\"white\",\"landcolor\":\"#E5ECF6\",\"subunitcolor\":\"white\",\"showland\":true,\"showlakes\":true,\"lakecolor\":\"white\"},\"title\":{\"x\":0.05},\"mapbox\":{\"style\":\"light\"}}},\"title\":{\"text\":\"Simple Linear Regression: Normally Distributed Samples around Theoretical Line\"},\"xaxis\":{\"title\":{\"text\":\"Predictor (x)\"}},\"yaxis\":{\"title\":{\"text\":\"Outcome (y)\"}},\"showlegend\":true},                        {\"responsive\": true}                    ).then(function(){\n",
       "                            \n",
       "var gd = document.getElementById('9d82305b-5180-4912-bc63-e7c70875eee0');\n",
       "var x = new MutationObserver(function (mutations, observer) {{\n",
       "        var display = window.getComputedStyle(gd).display;\n",
       "        if (!display || display === 'none') {{\n",
       "            console.log([gd, 'removed!']);\n",
       "            Plotly.purge(gd);\n",
       "            observer.disconnect();\n",
       "        }}\n",
       "}});\n",
       "\n",
       "// Listen for the removal of the full notebook cells\n",
       "var notebookContainer = gd.closest('#notebook-container');\n",
       "if (notebookContainer) {{\n",
       "    x.observe(notebookContainer, {childList: true});\n",
       "}}\n",
       "\n",
       "// Listen for the clearing of the current output cell\n",
       "var outputEl = gd.closest('.output');\n",
       "if (outputEl) {{\n",
       "    x.observe(outputEl, {childList: true});\n",
       "}}\n",
       "\n",
       "                        })                };                });            </script>        </div>"
      ]
     },
     "metadata": {},
     "output_type": "display_data"
    }
   ],
   "source": [
    "import numpy as np\n",
    "import plotly.graph_objects as go\n",
    "from scipy.stats import norm\n",
    "\n",
    "n = 50           \n",
    "beta0 = 2.0        \n",
    "beta1 = 1.5        \n",
    "sigma = 1.0        \n",
    "\n",
    "x = np.linspace(0, 10, n)\n",
    "\n",
    "errors = norm.rvs(loc=0, scale=sigma, size=n)\n",
    "\n",
    "y = beta0 + beta1 * x + errors\n",
    "\n",
    "fig = go.Figure()\n",
    "\n",
    "fig.add_trace(go.Scatter(x=x, y=y, mode='markers', name='Sampled Data Points'))\n",
    "\n",
    "fig.add_trace(go.Scatter(x=x, y=beta0 + beta1 * x, mode='lines', name='True Model Line'))\n",
    "\n",
    "fig.update_layout(\n",
    "    title=\"Simple Linear Regression: Normally Distributed Samples around Theoretical Line\",\n",
    "    xaxis_title=\"Predictor (x)\",\n",
    "    yaxis_title=\"Outcome (y)\",\n",
    "    showlegend=True\n",
    ")\n",
    "\n",
    "fig.show()"
   ]
  },
  {
   "cell_type": "markdown",
   "id": "fac23f57",
   "metadata": {},
   "source": [
    "The link of ChatGPT for question 1: https://chatgpt.com/share/672d8661-9e4c-8000-ab8c-5ad6d4e59109"
   ]
  },
  {
   "cell_type": "markdown",
   "id": "126385ca",
   "metadata": {},
   "source": [
    "Question 2:"
   ]
  },
  {
   "cell_type": "code",
   "execution_count": 9,
   "id": "a1dbb89b",
   "metadata": {
    "collapsed": true
   },
   "outputs": [
    {
     "name": "stdout",
     "output_type": "stream",
     "text": [
      "                            OLS Regression Results                            \n",
      "==============================================================================\n",
      "Dep. Variable:                      y   R-squared:                       0.971\n",
      "Model:                            OLS   Adj. R-squared:                  0.971\n",
      "Method:                 Least Squares   F-statistic:                     3262.\n",
      "Date:                Fri, 08 Nov 2024   Prob (F-statistic):           4.88e-77\n",
      "Time:                        03:46:00   Log-Likelihood:                 88.744\n",
      "No. Observations:                 100   AIC:                            -173.5\n",
      "Df Residuals:                      98   BIC:                            -168.3\n",
      "Df Model:                           1                                         \n",
      "Covariance Type:            nonrobust                                         \n",
      "==============================================================================\n",
      "                 coef    std err          t      P>|t|      [0.025      0.975]\n",
      "------------------------------------------------------------------------------\n",
      "Intercept      1.0222      0.019     52.884      0.000       0.984       1.061\n",
      "x              1.9937      0.035     57.117      0.000       1.924       2.063\n",
      "==============================================================================\n",
      "Omnibus:                       11.746   Durbin-Watson:                   2.083\n",
      "Prob(Omnibus):                  0.003   Jarque-Bera (JB):                4.097\n",
      "Skew:                           0.138   Prob(JB):                        0.129\n",
      "Kurtosis:                       2.047   Cond. No.                         4.30\n",
      "==============================================================================\n",
      "\n",
      "Notes:\n",
      "[1] Standard Errors assume that the covariance matrix of the errors is correctly specified.\n",
      "==============================================================================\n",
      "                 coef    std err          t      P>|t|      [0.025      0.975]\n",
      "------------------------------------------------------------------------------\n",
      "Intercept      1.0222      0.019     52.884      0.000       0.984       1.061\n",
      "x              1.9937      0.035     57.117      0.000       1.924       2.063\n",
      "==============================================================================\n",
      "Intercept    1.022215\n",
      "x            1.993694\n",
      "dtype: float64\n",
      "[1.02221511 1.9936935 ]\n",
      "0.9708365512617749\n"
     ]
    },
    {
     "data": {
      "image/png": "[encoded data removed]"
     },
     "metadata": {},
     "output_type": "display_data"
    }
   ],
   "source": [
    "import pandas as pd\n",
    "import numpy as np\n",
    "import statsmodels.formula.api as smf\n",
    "import plotly.express as px \n",
    "\n",
    "np.random.seed(0)\n",
    "x = np.random.rand(100)\n",
    "y = 2 * x + 1 + np.random.randn(100) * 0.1\n",
    "\n",
    "df = pd.DataFrame({'x': x, 'y': y})\n",
    "\n",
    "model_data_specification = smf.ols(\"y ~ x\", data=df)\n",
    "fitted_model = model_data_specification.fit()\n",
    "\n",
    "summary = fitted_model.summary()\n",
    "summary_table = fitted_model.summary().tables[1] \n",
    "params = fitted_model.params \n",
    "params_values = fitted_model.params.values \n",
    "rsquared = fitted_model.rsquared \n",
    "\n",
    "print(summary)\n",
    "print(summary_table)\n",
    "print(params)\n",
    "print(params_values)\n",
    "print(rsquared)\n",
    "\n",
    "df['Data'] = 'Data'\n",
    "\n",
    "fig = px.scatter(df, x='x', y='y', color='Data', trendline='ols', title='y vs. x')\n",
    "\n",
    "fig.add_scatter(x=df['x'], y=fitted_model.fittedvalues, line=dict(color='blue'), name=\"trendline='ols'\")\n",
    "\n",
    "fig.show(renderer=\"png\")"
   ]
  },
  {
   "cell_type": "markdown",
   "id": "be61bdea",
   "metadata": {},
   "source": [
    "Question 3:"
   ]
  },
  {
   "cell_type": "markdown",
   "id": "7494221d",
   "metadata": {},
   "source": [
    "This line from question 1 represents the exact relationship we assume exists between x and y, without any influence from random variations or errors. On the other hand, code from question 2 is about finding the best estimate of the relationship between x and y based on actual data. Here, we don’t know the true relationship, so we’re using a linear regression model to fit a line that gets as close as possible to the observed data points. This line won’t be identical because the data includes random noise that slightly throws off the line’s slope and intercept."
   ]
  },
  {
   "cell_type": "markdown",
   "id": "e43e53f7",
   "metadata": {},
   "source": [
    "The link of ChatGPT for question 3: https://chatgpt.com/share/672d8a93-eea8-8000-9414-d894b76ed222"
   ]
  },
  {
   "cell_type": "markdown",
   "id": "2948c6c7",
   "metadata": {},
   "source": [
    "Question 4:"
   ]
  },
  {
   "cell_type": "markdown",
   "id": "1e021acc",
   "metadata": {},
   "source": [
    "The fitted model line is based on estimated parameters from actual data, so it’s an approximation rather than the exact theoretical line. fitted_model.params gives us the values for 𝛽̂0 and 𝛽̂1, while fitted_model.fittedvalues uses these parameters to compute the estimated 𝑦̂𝑖 for each 𝑥𝑖 in the dataset."
   ]
  },
  {
   "cell_type": "markdown",
   "id": "e80ad65c",
   "metadata": {},
   "source": [
    "Question 5:"
   ]
  },
  {
   "cell_type": "markdown",
   "id": "c73f4425",
   "metadata": {},
   "source": [
    "The line chosen for the fitted model using the \"Ordinary Least Squares\" method is the one that minimizes the sum of the squared differences between the observed y-values and the predicted y-values. In the plot, you can see the vertical red dashed lines representing the residuals. The fitted line is the one that minimizes the total area of these squared distances between the data points and the predicted line. This method ensures that the model gives the best fit to the data by minimizing the overall error."
   ]
  },
  {
   "cell_type": "markdown",
   "id": "933fbe10",
   "metadata": {},
   "source": [
    "Question 6:"
   ]
  },
  {
   "cell_type": "markdown",
   "id": "475c9e6f",
   "metadata": {},
   "source": [
    "A:This expression calculates the correlation coefficient between the actual data points y and the predictor variable x. The correlation coefficient measures the strength and direction of the linear relationship between x and y.\n",
    "B: This expression calculates the correlation coefficient between the actual observed values y and the fitted values 𝑦̂𝑖.\n",
    "C: This is the formula for 𝑅2, which directly measures the proportion of variation in y explained by the fitted model. "
   ]
  },
  {
   "cell_type": "markdown",
   "id": "bf7e7b10",
   "metadata": {},
   "source": [
    "Why the final expression can be interpreted as \"the proportion of variation in (outcome) y explained by the model (fitted_model.fittedvalues)\" :"
   ]
  },
  {
   "cell_type": "markdown",
   "id": "6f630741",
   "metadata": {},
   "source": [
    "R2 quantifies the proportion of the total variation in y that can be explained by the model, thus providing a clear measure of how well the fitted model accounts for the variability in the outcome variable y."
   ]
  },
  {
   "cell_type": "markdown",
   "id": "574a809d",
   "metadata": {},
   "source": [
    "Why fitted_model.rsquared can be interpreted as a measure of the accuracy of the model :"
   ]
  },
  {
   "cell_type": "markdown",
   "id": "2d1f47fe",
   "metadata": {},
   "source": [
    "The R2 value, calculated using the formula above, directly tells us the proportion of the total variability in \n",
    "y that is accounted for by the model's predictions 𝑦̂𝑖. Therefore, R2 can be interpreted as a measure of the accuracy of the model because it shows how well the model fits the data and how much of the data’s variability it can explain."
   ]
  },
  {
   "cell_type": "markdown",
   "id": "bd5b97e8",
   "metadata": {},
   "source": [
    "Question 7:"
   ]
  },
  {
   "cell_type": "markdown",
   "id": "5053a841",
   "metadata": {},
   "source": [
    "The relationship between the variables may be non-linear, violating the linearity assumption of the Simple Linear Regression model. And the residuals may exhibit patterns that suggest issues with independence."
   ]
  },
  {
   "cell_type": "markdown",
   "id": "50b6a957",
   "metadata": {},
   "source": [
    "Question 8:"
   ]
  },
  {
   "cell_type": "markdown",
   "id": "557c1e3f",
   "metadata": {},
   "source": [
    "The null hypothesis: H0 : 𝛽1 = 0, where 𝛽1 is the slope of the regression line. This H0 means there is no linear relationship between waiting time and eruption duration."
   ]
  },
  {
   "cell_type": "markdown",
   "id": "ec2f3414",
   "metadata": {},
   "source": [
    "Interpretation of subsequent beliefs regarding the Old Faithful Geyser dataset:\n",
    "If the p-value is small: We reject the null hypothesis and conclude that there is a statistically significant linear relationship between the waiting time between eruptions and the duration of the eruption. In practical terms, this means that the waiting time does indeed appear to influence the eruption duration, with longer waiting times likely leading to longer eruptions.\n",
    "If the p-value is large: We fail to reject the null hypothesis, implying that there is no strong evidence of a linear relationship between waiting time and eruption duration in the data. In this case, we would be less confident in asserting that changes in waiting time have a significant effect on the eruption duration."
   ]
  },
  {
   "cell_type": "markdown",
   "id": "4a341fa6",
   "metadata": {},
   "source": [
    "Question 9:"
   ]
  },
  {
   "cell_type": "markdown",
   "id": "5c42f2fc",
   "metadata": {},
   "source": [
    "Evidence Against the Null Hypothesis: The p-value of 0.238 is relatively large, meaning that there is no significant evidence against the null hypothesis. In other words, we do not have sufficient statistical evidence to conclude that there is a linear relationship between waiting time and duration for wait times less than 62 minutes."
   ]
  },
  {
   "cell_type": "markdown",
   "id": "2d2977be",
   "metadata": {},
   "source": [
    "Thus, in this restricted dataset (short wait times), the relationship between waiting time and eruption duration does not appear to be as strong or significant as it might be in the full dataset."
   ]
  },
  {
   "cell_type": "markdown",
   "id": "90e5e28b",
   "metadata": {},
   "source": [
    "Question 10:"
   ]
  },
  {
   "cell_type": "code",
   "execution_count": 14,
   "id": "14186cb8",
   "metadata": {
    "collapsed": true
   },
   "outputs": [
    {
     "data": {
      "image/png": "[encoded data removed]",
      "text/plain": [
       "<Figure size 640x480 with 1 Axes>"
      ]
     },
     "metadata": {},
     "output_type": "display_data"
    },
    {
     "name": "stdout",
     "output_type": "stream",
     "text": [
      "95% Bootstrapped Confidence Interval: (0.03111571935181281, 0.06215437675559059)\n"
     ]
    },
    {
     "data": {
      "image/png": "[encoded data removed]",
      "text/plain": [
       "<Figure size 640x480 with 1 Axes>"
      ]
     },
     "metadata": {},
     "output_type": "display_data"
    },
    {
     "name": "stdout",
     "output_type": "stream",
     "text": [
      "Simulated p-value: 0.0\n",
      "The observed slope coefficient 0.04675813725483139 is within the 95% bootstrapped confidence interval.\n"
     ]
    },
    {
     "name": "stderr",
     "output_type": "stream",
     "text": [
      "/tmp/ipykernel_70/2385019712.py:49: FutureWarning:\n",
      "\n",
      "Series.__getitem__ treating keys as positions is deprecated. In a future version, integer keys will always be treated as labels (consistent with DataFrame behavior). To access a value by position, use `ser.iloc[pos]`\n",
      "\n"
     ]
    }
   ],
   "source": [
    "import numpy as np\n",
    "import pandas as pd\n",
    "import statsmodels.formula.api as smf\n",
    "from scipy import stats\n",
    "import matplotlib.pyplot as plt\n",
    "import seaborn as sns\n",
    "\n",
    "old_faithful = sns.load_dataset('geyser')\n",
    "\n",
    "long_wait_limit = 63\n",
    "long_wait = old_faithful.waiting > long_wait_limit\n",
    "\n",
    "n_bootstraps = 1000\n",
    "bootstrapped_slope_coefficients = []\n",
    "\n",
    "for _ in range(n_bootstraps):\n",
    "    bootstrap_sample = old_faithful[long_wait].sample(n=long_wait.sum(), replace=True)\n",
    "    model = smf.ols('duration ~ waiting', data=bootstrap_sample).fit()\n",
    "    bootstrapped_slope_coefficients.append(model.params['waiting'])\n",
    "\n",
    "bootstrapped_slope_coefficients = np.array(bootstrapped_slope_coefficients)\n",
    "\n",
    "plt.hist(bootstrapped_slope_coefficients, bins=30, edgecolor='black', alpha=0.7)\n",
    "plt.title(\"Bootstrapped Sampling Distribution of the Slope Coefficient\")\n",
    "plt.xlabel('Slope Coefficient')\n",
    "plt.ylabel('Frequency')\n",
    "plt.show()\n",
    "\n",
    "ci_lower, ci_upper = np.quantile(bootstrapped_slope_coefficients, [0.025, 0.975])\n",
    "print(f\"95% Bootstrapped Confidence Interval: ({ci_lower}, {ci_upper})\")\n",
    "\n",
    "n_simulations = 1000\n",
    "simulated_slope_coefficients = []\n",
    "\n",
    "for _ in range(n_simulations):\n",
    "    old_faithful_simulation = old_faithful[long_wait].copy()\n",
    "    old_faithful_simulation['duration'] = 1.65 + 0 * old_faithful_simulation['waiting'] + stats.norm(loc=0, scale=0.37).rvs(size=long_wait.sum())\n",
    "    model = smf.ols('duration ~ waiting', data=old_faithful_simulation).fit()\n",
    "    simulated_slope_coefficients.append(model.params['waiting'])\n",
    "\n",
    "simulated_slope_coefficients = np.array(simulated_slope_coefficients)\n",
    "\n",
    "plt.hist(simulated_slope_coefficients, bins=30, edgecolor='black', alpha=0.7)\n",
    "plt.title(\"Simulated Sampling Distribution of the Slope Coefficient (Null Hypothesis)\")\n",
    "plt.xlabel('Slope Coefficient')\n",
    "plt.ylabel('Frequency')\n",
    "plt.show()\n",
    "\n",
    "observed_slope = smf.ols('duration ~ waiting', data=old_faithful[long_wait]).fit().params[1]\n",
    "p_value = (np.abs(simulated_slope_coefficients) >= np.abs(observed_slope)).mean()\n",
    "print(f\"Simulated p-value: {p_value}\")\n",
    "\n",
    "if ci_lower <= observed_slope <= ci_upper:\n",
    "    print(f\"The observed slope coefficient {observed_slope} is within the 95% bootstrapped confidence interval.\")\n",
    "else:\n",
    "    print(f\"The observed slope coefficient {observed_slope} is NOT within the 95% bootstrapped confidence interval.\")"
   ]
  },
  {
   "cell_type": "markdown",
   "id": "2418b07c",
   "metadata": {},
   "source": [
    "Question 11:"
   ]
  },
  {
   "cell_type": "markdown",
   "id": "fae7f178",
   "metadata": {},
   "source": [
    "The \"big picture\" differences:\n",
    "Previous Model Specifications were trying to predict how much the duration would change for every unit change in waiting time. Current Model Specification involves using an indicator variable (kind) to divide the data into two categories: \"short\" and \"long\" wait times. This is specified as smf.ols('duration ~ C(kind, Treatment(reference=\"short\"))', data=old_faithful), where the variable kind is the categorical variable and C(kind, Treatment(reference=\"short\")) tells the model to use \"short\" wait times as the reference category."
   ]
  },
  {
   "cell_type": "markdown",
   "id": "ef995ace",
   "metadata": {},
   "source": [
    "Evidence Against the Null Hypothesis: Since the p-value for the contrast coefficient is significantly smaller than 0.05 (in fact, it’s close to 0), there is strong evidence against the null hypothesis of \"no difference between the groups.\" We conclude that there is a significant difference in the average eruption duration between \"short\" and \"long\" wait times."
   ]
  },
  {
   "cell_type": "markdown",
   "id": "6d942f76",
   "metadata": {},
   "source": [
    "Question 12:"
   ]
  },
  {
   "cell_type": "markdown",
   "id": "2ce4c22c",
   "metadata": {},
   "source": [
    "Model 1 might show the best normality, as this dataset might contain sufficient variation that error terms are more likely to follow a normal distribution. In Model 2 and Model 3, the reduced sample size and more homogenous nature of the data might lead to residuals that are less representative of a normal distribution. Model 4 might lead to residuals that don't follow normality due to the inherent division of the data into \"short\" and \"long\" categories, which can create separate clusters of residuals."
   ]
  },
  {
   "cell_type": "markdown",
   "id": "60628771",
   "metadata": {},
   "source": [
    "Question 13:"
   ]
  },
  {
   "cell_type": "markdown",
   "id": "3dbb544f",
   "metadata": {},
   "source": [
    "Explaination of how the sampling approaches work for the two simulations:"
   ]
  },
  {
   "cell_type": "markdown",
   "id": "1793899a",
   "metadata": {},
   "source": [
    "Permutation Testing method tests the null hypothesis of no difference between groups by assuming that any observed difference is due to random chance. It achieves this by randomizing group labels and calculating the mean difference for each shuffle. Bootstrap Confidence Interval estimates the variability of the mean difference by resampling each group independently with replacement."
   ]
  },
  {
   "cell_type": "markdown",
   "id": "ede55e07",
   "metadata": {},
   "source": [
    "Question 14:"
   ]
  },
  {
   "cell_type": "markdown",
   "id": "175ab7a5",
   "metadata": {},
   "source": [
    "Yes."
   ]
  }
 ],
 "metadata": {
  "kernelspec": {
   "display_name": "Python 3 (ipykernel)",
   "language": "python",
   "name": "python3"
  },
  "language_info": {
   "codemirror_mode": {
    "name": "ipython",
    "version": 3
   },
   "file_extension": ".py",
   "mimetype": "text/x-python",
   "name": "python",
   "nbconvert_exporter": "python",
   "pygments_lexer": "ipython3",
   "version": "3.11.6"
  }
 },
 "nbformat": 4,
 "nbformat_minor": 5
}
