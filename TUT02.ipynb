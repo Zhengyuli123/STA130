{
 "cells": [
  {
   "cell_type": "markdown",
   "id": "ecd70d96",
   "metadata": {},
   "source": [
    "Demo:"
   ]
  },
  {
   "cell_type": "markdown",
   "id": "e352baae",
   "metadata": {},
   "source": [
    "1."
   ]
  },
  {
   "cell_type": "markdown",
   "id": "edadacc5",
   "metadata": {},
   "source": [
    "Tuples vs. Lists vs. Dictionaries:\n",
    "Tuples: Immutable ordered collections.\n",
    "Lists: Mutable ordered collections.\n",
    "Dictionaries: Mutable unordered collections of key-value pairs.\n",
    "NumPy Functions:\n",
    "np.array: Efficient array creation.\n",
    "np.random.choice: Random selection from an array.\n",
    "Loops:\n",
    "for i in range(n): Iterate over a sequence of numbers.\n",
    "for x in a_list: Iterate directly over list elements.\n",
    "for i, x in enumerate(a_list): Iterate with index and value.\n",
    "Conditionals:\n",
    "if/else: Make decisions based on conditions."
   ]
  },
  {
   "cell_type": "markdown",
   "id": "a9b648da",
   "metadata": {},
   "source": [
    "The link for Chatbot:"
   ]
  },
  {
   "cell_type": "markdown",
   "id": "3416319c",
   "metadata": {},
   "source": [
    "https://chatgpt.com/share/66f6b460-a288-8000-8a0c-460c49b4f80a"
   ]
  },
  {
   "cell_type": "markdown",
   "id": "ac2ec641",
   "metadata": {},
   "source": [
    "2."
   ]
  },
  {
   "cell_type": "markdown",
   "id": "f59ecfd0",
   "metadata": {},
   "source": [
    "There are three doors: Behind one door is a car (the prize), and behind the other two doors are goats. The contestant selects one door. The host, who knows what's behind each door, opens one of the two remaining doors, revealing a goat. The contestant is given the choice to stick with their original selection or switch to the other unopened door. The door the contestant finally chooses is opened to reveal whether they've won the car or a goat. The question is: Is it advantageous for the contestant to switch their choice after the host reveals a goat? "
   ]
  },
  {
   "cell_type": "markdown",
   "id": "5369262c",
   "metadata": {},
   "source": [
    "Lists for managing door options.\n",
    "NumPy functions for random selections.\n",
    "for loops for iterating through trials.\n",
    "if/else conditionals to determine outcomes.\n",
    "print() to display results."
   ]
  },
  {
   "cell_type": "markdown",
   "id": "b99c351f",
   "metadata": {},
   "source": [
    "3."
   ]
  },
  {
   "cell_type": "markdown",
   "id": "d2365d98",
   "metadata": {},
   "source": [
    "https://chatgpt.com/share/66f6b8cb-df7c-8000-a8f8-a703ee4281b1"
   ]
  }
 ],
 "metadata": {
  "kernelspec": {
   "display_name": "Python 3 (ipykernel)",
   "language": "python",
   "name": "python3"
  },
  "language_info": {
   "codemirror_mode": {
    "name": "ipython",
    "version": 3
   },
   "file_extension": ".py",
   "mimetype": "text/x-python",
   "name": "python",
   "nbconvert_exporter": "python",
   "pygments_lexer": "ipython3",
   "version": "3.11.6"
  }
 },
 "nbformat": 4,
 "nbformat_minor": 5
}
