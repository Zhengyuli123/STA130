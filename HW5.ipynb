{
 "cells": [
  {
   "cell_type": "markdown",
   "id": "e61da4df",
   "metadata": {},
   "source": [
    "Question 1:"
   ]
  },
  {
   "cell_type": "markdown",
   "id": "4fd36a3d",
   "metadata": {},
   "source": [
    "(1): The key factor that makes an idea testable is whether it has data that can be collected and analyzed to either support or reject a claim."
   ]
  },
  {
   "cell_type": "markdown",
   "id": "054efb54",
   "metadata": {},
   "source": [
    "(2): The key \"criteria\" defining what a good null hypothesis are clarity and testability. Clarity refers that the null hypothesis should be simple and easy-to-understand and testability refers that the null hypothesis must be testable with data through statistical methods."
   ]
  },
  {
   "cell_type": "markdown",
   "id": "201c2d01",
   "metadata": {},
   "source": [
    "(3): Null Hypothesis states that there is no effect, or no difference between variables. However, Alternative Hypothesis is the opposite of the null hypothesis. In other words, the Null Hypothesis is the default position that assumes nothing is happening, and the Alternative Hypothesis suggests something significant is happening."
   ]
  },
  {
   "cell_type": "markdown",
   "id": "c80ec52b",
   "metadata": {},
   "source": [
    "Question 2:"
   ]
  },
  {
   "cell_type": "markdown",
   "id": "075993ca",
   "metadata": {},
   "source": [
    "The sentence aims to tell us that the results of tests are to help us understand the entire population not just the sample we take, which gives us information about 𝜇, the average of the entire population, even though we compute x-bar in our sample. test outcomes conclude things about the population."
   ]
  },
  {
   "cell_type": "markdown",
   "id": "e72087ff",
   "metadata": {},
   "source": [
    "Link for summaries of ChatGPT: https://chatgpt.com/share/670f11be-893c-8000-bbbb-08e8e688f173"
   ]
  },
  {
   "cell_type": "markdown",
   "id": "7eefdc21",
   "metadata": {},
   "source": [
    "Question 3:"
   ]
  },
  {
   "cell_type": "markdown",
   "id": "4a7b90b2",
   "metadata": {},
   "source": [
    "Calculating a p-value is to determine the probability of getting results as extreme as the ones we found in our sample under the situation that the null hypothesis were ture. We \"imagine a world where the null hypothesis is true\" because that is the baseline we’re comparing our data to and let us obtain sampling distribution for seeing how unusual our data is compared to what we have expected that if null hypothesis were true."
   ]
  },
  {
   "cell_type": "markdown",
   "id": "8e7125ed",
   "metadata": {},
   "source": [
    "Question 4:"
   ]
  },
  {
   "cell_type": "markdown",
   "id": "41980652",
   "metadata": {},
   "source": [
    "The p-value is the probability of obtaining the observed sample results or more extreme results when the null hypothesis is true. If the p-value is very small, it indicates that the probability of extreme observed results occurring under the null hypothesis is very low. And if it occurs, according to the small probability principle, there is reason to reject the null hypothesis; the smaller the p-value, the more sufficient the reason to reject the null hypothesis or we can say the result we got is very far from what we would expect under 𝐻0. This makes the null hypothesis seem less believable, or \"more ridiculous\" given in the problem because the data is telling us that something unusual is going on that the null hypothesis cannot actually explain."
   ]
  },
  {
   "cell_type": "markdown",
   "id": "e0a7abac",
   "metadata": {},
   "source": [
    "Question 5:"
   ]
  },
  {
   "cell_type": "markdown",
   "id": "e38062db",
   "metadata": {},
   "source": [
    "Step 1: Set up the null hypothesis which states that there is no preference for head tilt direction when kissing—couples are equally likely to tilt left or right. "
   ]
  },
  {
   "cell_type": "markdown",
   "id": "905b19b8",
   "metadata": {},
   "source": [
    "Step 2: Simulate the null hypothesis as we can assume of each couple’s head tilt as a coin flip where heads represents a right tilt and tails represents a left tilt. Since there are 124 couples in the study, we would simulate flipping a coin 124 times and count how many times we get heads ( this time using right tilt)."
   ]
  },
  {
   "cell_type": "markdown",
   "id": "0d26de94",
   "metadata": {},
   "source": [
    "Step 3: Compare our observed result to the simulated outcomes to calculate the p-value -- the probability of simulated outcomes where the number of right tilts is as extreme as, or more extreme than, 80."
   ]
  },
  {
   "cell_type": "markdown",
   "id": "9a692e0a",
   "metadata": {},
   "source": [
    "Step 4: Use the following table to determine the strength of p-value against the null hypothesis."
   ]
  },
  {
   "cell_type": "markdown",
   "id": "0e0ee8cc",
   "metadata": {},
   "source": [
    "Conclusion : If we simulate that the p-value is 0.02. This is between the \"moderate evidence\" range. Therefore, we would conclude that there is moderate evidence against the null hypothesis, suggesting that couples may have a tendency to tilt their heads to the right when kissing."
   ]
  },
  {
   "cell_type": "markdown",
   "id": "a0c08e34",
   "metadata": {},
   "source": [
    "Link for summaries of ChatGPT: https://chatgpt.com/share/670f1fcb-7dac-8000-acc1-fcd0ac5fe8da"
   ]
  },
  {
   "cell_type": "markdown",
   "id": "2aca20ba",
   "metadata": {},
   "source": [
    "Question 6:"
   ]
  },
  {
   "cell_type": "markdown",
   "id": "d4dd146a",
   "metadata": {},
   "source": [
    "(1): A smaller p-value does not definitively prove that the null hypothesis is false. Instead, it indicates that the observed data is unlikely under the assumption that the null hypothesis is true."
   ]
  },
  {
   "cell_type": "markdown",
   "id": "fb536227",
   "metadata": {},
   "source": [
    "(2 and 3): Regarding Fido's innocence or guilt, p-values can inform our decision, but they do not offer definitive proof. "
   ]
  },
  {
   "cell_type": "markdown",
   "id": "916ac974",
   "metadata": {},
   "source": [
    "(4): There is no specific p-value threshold that can definitively prove guilt or innocence; common thresholds for significance are merely conventions for deciding whether to reject the null hypothesis. "
   ]
  },
  {
   "cell_type": "markdown",
   "id": "55515eb2",
   "metadata": {},
   "source": [
    "Question 7:"
   ]
  },
  {
   "cell_type": "markdown",
   "id": "b83b618b",
   "metadata": {},
   "source": [
    "(1): In the one-tailed test, the condition is simplified to only check if the simulated statistics are greater than or equal to the observed statistic. In the two-tailed test, it checks for both directions of extremity by comparing the absolute differences from the null hypothesis value."
   ]
  },
  {
   "cell_type": "markdown",
   "id": "36721149",
   "metadata": {},
   "source": [
    "(2): The alternative hypothesis specifically states that the treatment leads to an improvement in health scores. And in the two-tailed test, the p-value considers both directions."
   ]
  },
  {
   "cell_type": "markdown",
   "id": "9213861d",
   "metadata": {},
   "source": [
    "(3): In the one-tailed test, I have enough evidence to reject the null hypothesis in the direction of interest. In the two-tailed test, I need more extreme evidence to achieve significance."
   ]
  },
  {
   "cell_type": "markdown",
   "id": "8120a71e",
   "metadata": {},
   "source": [
    "Link for summaries of ChatGPT: https://chatgpt.com/share/670f22d3-c1f8-8000-b437-4fc3531ea9ff"
   ]
  },
  {
   "cell_type": "markdown",
   "id": "11e127d9",
   "metadata": {},
   "source": [
    "Question 8:"
   ]
  },
  {
   "cell_type": "markdown",
   "id": "f39258a8",
   "metadata": {},
   "source": [
    "(0): Code below. Link of ChatGPT: https://chatgpt.com/share/670f29d7-ee18-8000-a253-e5f9ab983b39"
   ]
  },
  {
   "cell_type": "code",
   "execution_count": 2,
   "id": "6348ad02",
   "metadata": {},
   "outputs": [
    {
     "name": "stdout",
     "output_type": "stream",
     "text": [
      "Sample proportion (p_hat): 0.613\n",
      "Z-statistic: 2.012\n",
      "P-value: 0.044\n",
      "Reject the null hypothesis: There is evidence that the order of pouring affects the taste.\n"
     ]
    }
   ],
   "source": [
    "import numpy as np\n",
    "import scipy.stats as stats\n",
    "\n",
    "# Given data\n",
    "n = 80  # sample size\n",
    "x = 49  # number of successes\n",
    "p0 = 0.5  # null hypothesis proportion\n",
    "\n",
    "# Step 3: Calculate sample proportion\n",
    "p_hat = x / n\n",
    "\n",
    "# Step 4: Calculate the z statistic\n",
    "z = (p_hat - p0) / np.sqrt(p0 * (1 - p0) / n)\n",
    "\n",
    "# Step 5: Calculate the two-tailed p-value\n",
    "p_value = 2 * (1 - stats.norm.cdf(abs(z)))\n",
    "\n",
    "# Display results\n",
    "alpha = 0.05  # significance level\n",
    "print(f'Sample proportion (p_hat): {p_hat:.3f}')\n",
    "print(f'Z-statistic: {z:.3f}')\n",
    "print(f'P-value: {p_value:.3f}')\n",
    "\n",
    "# Step 6: Conclusion\n",
    "if p_value < alpha:\n",
    "    print(\"Reject the null hypothesis: There is evidence that the order of pouring affects the taste.\")\n",
    "else:\n",
    "    print(\"Fail to reject the null hypothesis: There is not enough evidence to say the order of pouring affects the taste.\")\n"
   ]
  },
  {
   "cell_type": "markdown",
   "id": "3eccce9a",
   "metadata": {},
   "source": [
    "(1):\n",
    "Problem Introduction:\n",
    "The purpose of this experiment is to analyze whether students in the STA130 course can discern the order in which milk and tea are poured into a cup. This inquiry is inspired by the famous experiment conducted by statistician Ronald Fisher and his colleague Dr. Muriel Bristol in the 1920s, where Bristol claimed she could tell the difference based on the order of pouring. In this report, we conduct a similar experiment with a sample of STA130 students to evaluate whether their ability to identify the pouring order is statistically significant or merely a result of random guessing.\n",
    "\n",
    "Relationship Between This Experiment and the Original with Fisher and Bristol:\n",
    "Fisher's original study involved a single participant who tasted eight cups of tea prepared in two different orders (milk first or tea first). Bristol successfully identified the pouring order, prompting Fisher to question whether her performance exceeded what would be expected from chance alone. Our experiment extends this concept by testing a larger group of 80 STA130 students, each of whom tasted a cup of tea and reported whether they believed the milk or tea was poured first. This broader sample allows us to generalize findings about student perception while still focusing on the fundamental question of whether pouring order affects taste."
   ]
  },
  {
   "cell_type": "markdown",
   "id": "f1e38265",
   "metadata": {},
   "source": [
    "(2):\n",
    "Population: \n",
    "The population of interest in this experiment consists of all students who are enrolled in STA130 at the time of the study. \n",
    "\n",
    "Sample: \n",
    "The sample is a random selection of 80 STA130 students who participated in the taste test. Each student tasted one cup of tea and indicated whether they thought the milk or tea was poured first. \n",
    "\n",
    "Parameter of Interest:\n",
    "The parameter of interest is the true proportion of STA130 students who can correctly identify the pouring order of milk and tea. \n",
    "\n",
    "Corresponding Observed Test Statistic:\n",
    "Corresponding observed test statistic is the sample proportion of students who correctly identified the pouring order."
   ]
  },
  {
   "cell_type": "markdown",
   "id": "5b0849d5",
   "metadata": {},
   "source": [
    "(3):\n",
    "Null Hypothesis:\n",
    "Formal Version: \n",
    "The proportion of students who can correctly identify the pouring order of milk and tea is equal to 0.5, indicating that their responses are no better than chance.\n",
    "\n",
    "Informal Interpretation: \n",
    "We are assuming that the students are just guessing when they say whether the milk or tea was poured first, and thus have a 50% chance of being correct.\n",
    "\n",
    "Alternative Hypothesis:\n",
    "The proportion of students who can correctly identify the pouring order of milk and tea is greater than 0.5, suggesting that the students can actually tell the difference and are not simply guessing."
   ]
  },
  {
   "cell_type": "markdown",
   "id": "3ce156b8",
   "metadata": {},
   "source": [
    "(4):\n",
    "Quantitative analysis addressing the validity of 𝐻0:\n",
    "a. Calculate the observed test statistic, which is the sample proportion of students who correctly identified the pouring order: 49 / 80 = 0.6125.\n",
    "b. Simulate the Null Hypothesis Distribution by conducting a large number of simulations using a binomial distribution. For each simulation, we randomly select 80 responses, assuming a true success rate of 0.5.\n",
    "c. Calculate the p-value. The p-value is calculated as the proportion of simulated sample proportions that are equal to or greater than the observed sample proportion\n",
    "d. Conclude Based on the p-value. a large p-value suggests insufficient evidence to reject H0. conversely, a small p-value indicates that the observed result is unlikely to have occurred if H0 is true."
   ]
  },
  {
   "cell_type": "markdown",
   "id": "6c781773",
   "metadata": {},
   "source": [
    "(5): \n",
    "Explanation of the method clearly articulating the purpose of the usage of statistic(s) to address  𝐻0  the population parameter of interest:\n",
    "Conducting this quantitative analysis can help us systematically evaluate the validity of the null hypothesis and draw conclusions about the taste perception abilities of STA130 students in relation to the order of milk and tea poured."
   ]
  },
  {
   "cell_type": "markdown",
   "id": "fa9d49df",
   "metadata": {},
   "source": [
    "Question 9:"
   ]
  },
  {
   "cell_type": "markdown",
   "id": "35f8486d",
   "metadata": {},
   "source": [
    "Yes."
   ]
  }
 ],
 "metadata": {
  "kernelspec": {
   "display_name": "Python 3 (ipykernel)",
   "language": "python",
   "name": "python3"
  },
  "language_info": {
   "codemirror_mode": {
    "name": "ipython",
    "version": 3
   },
   "file_extension": ".py",
   "mimetype": "text/x-python",
   "name": "python",
   "nbconvert_exporter": "python",
   "pygments_lexer": "ipython3",
   "version": "3.11.6"
  }
 },
 "nbformat": 4,
 "nbformat_minor": 5
}
