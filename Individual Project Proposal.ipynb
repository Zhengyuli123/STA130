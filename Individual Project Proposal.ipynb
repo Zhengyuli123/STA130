{
 "cells": [
  {
   "cell_type": "markdown",
   "id": "912d210f",
   "metadata": {},
   "source": [
    "Analysis(Question) 1:"
   ]
  },
  {
   "cell_type": "markdown",
   "id": "e1b10742",
   "metadata": {},
   "source": [
    "Interestin to learn:\n",
    "Level of participation in community or volunteer activities.\n",
    "Number of friends of a person has in the society who they socialize.\n",
    "And so on...\n",
    "\n",
    "There is a population parameter that I would like to estimate.\n",
    "I am interested in the association of one (or more) variables on some outcome."
   ]
  },
  {
   "cell_type": "markdown",
   "id": "1e733a79",
   "metadata": {},
   "source": [
    "Analysis(Question) 2 and 3:"
   ]
  },
  {
   "cell_type": "markdown",
   "id": "8596e0d4",
   "metadata": {},
   "source": [
    "The variable I plan to explore is the text -- for example: \"What is your gender identity?\", \"What do you think people should know about ending friendships?\" and so on --. According to what we have learned in class, the analysis I would like to perform is as follows:"
   ]
  },
  {
   "cell_type": "markdown",
   "id": "0d0c2cf9",
   "metadata": {},
   "source": [
    "Case: Let's say the chosen variable in the text is the number of friends of a person has in the society who they socialize."
   ]
  },
  {
   "cell_type": "markdown",
   "id": "36a1f299",
   "metadata": {},
   "source": [
    "Data Summarization: \n",
    "Calculate the mean, median, mode, standard deviation, and interquartile range to summarize how many friends does a person have. Then create frequency tables to explore the distribution of responses."
   ]
  },
  {
   "cell_type": "markdown",
   "id": "2e21c050",
   "metadata": {},
   "source": [
    "Data Visualization: \n",
    "We will use histograms and boxplots to visualize the distribution of the variable to identify patterns, outliers, and the spread of data. We will also use bar charts to demonstrate the percentage of different types of the date( only if it is categorical)."
   ]
  },
  {
   "cell_type": "markdown",
   "id": "8f90041f",
   "metadata": {},
   "source": [
    "Confidence Intervals: \n",
    "Construct confidence intervals for the mean of the chosen variable to understand the precision of the sample estimate. "
   ]
  },
  {
   "cell_type": "markdown",
   "id": "3a22fbd1",
   "metadata": {},
   "source": [
    "Hypothesis Testing:\n",
    "One-Sample t-test: Test whether the mean number of friends significantly differs from a hypothesized value\n",
    "Two-Sample t-test: Compare the means between different subgroups (such as age groups) to see if there are significant differences in the number of friends."
   ]
  },
  {
   "cell_type": "markdown",
   "id": "df13981e",
   "metadata": {},
   "source": [
    "Simple Linear Regression:\n",
    "Compare the relationship between the number of friends and measures of personal well-being to explore whether an increase in number of friends predicts an improvement in social well-being."
   ]
  },
  {
   "cell_type": "markdown",
   "id": "af0a15eb",
   "metadata": {},
   "source": [
    "We need to draft a reproducible workflow using Python or some code editors for executing the proposed analyses."
   ]
  },
  {
   "cell_type": "markdown",
   "id": "b57f9ff9",
   "metadata": {},
   "source": [
    "Analysis(Question) 4:"
   ]
  },
  {
   "cell_type": "markdown",
   "id": "bbad9791",
   "metadata": {},
   "source": [
    "Possible results for corresponding analyses:"
   ]
  },
  {
   "cell_type": "markdown",
   "id": "4a1b8199",
   "metadata": {},
   "source": [
    "Data Summarization and Visualization: \n",
    "Large number of friends: This could suggest that social engagement is strong among respondents because they have a lot of friends to conduct social activities.\n",
    "Small number of friends: This may reveal that many people have infrequent social interactions, indicating potential social isolation issues.\n",
    "Skewed Distribution: This may suggest that most people fall into a specific category  while fewer people report extremes."
   ]
  },
  {
   "cell_type": "markdown",
   "id": "cd39a613",
   "metadata": {},
   "source": [
    "Confidence Intervals:\n",
    "This analysis may produce a narrow confidence interval around the mean number of friends, implying precise estimates and high confidence in the data. Conversely, a wide interval would suggest variability and the need for further investigation."
   ]
  },
  {
   "cell_type": "markdown",
   "id": "ce30a20e",
   "metadata": {},
   "source": [
    "Hypothesis Testing:\n",
    "Significant Differences: This might show significant differences in social interaction frequency between demographic groups, indicating that social connection varies by age, location, or other factors.\n",
    "Non-Significant Results: This suggests that the frequency of interactions is relatively stable across demographics."
   ]
  },
  {
   "cell_type": "markdown",
   "id": "0bbee0cd",
   "metadata": {},
   "source": [
    "Simple Linear Regression:\n",
    "Positive Relationship: This would suggest that more number of friends are associated with higher levels of happiness or reduced stress or any other factors.\n",
    "Weak Correlation: This suggests that number of friends might not significantly influence well-being, or that other factors play a larger role to this variable."
   ]
  },
  {
   "cell_type": "markdown",
   "id": "f1432205",
   "metadata": {},
   "source": [
    "Relevance for the objectives of the course project:"
   ]
  },
  {
   "cell_type": "markdown",
   "id": "e0408d49",
   "metadata": {},
   "source": [
    "1: If the analysis finds a strong relationship between number of friends and well-being, this would strongly support that social connection is vital for mental health. Thus, this could inspire us students and any other people to understand the importance of social relationships and take more time and effort to engage in building and maintaining relationships among people.\n",
    "2: This project enables students to apply theoretical knowledge to a real dataset, enhancing their understanding of data analysis in a community context. Hence, we can better our ability in statistics and becomre more capable for future anlyses regarding these related incidents.\n",
    "3: If the project identifies critical statistics showing how number of friends benefits health, it could serve as a basis for deeper studies and potential Rapid Evidence Briefs. Policymakers or community leaders might use these findings to advocate for programs that foster social connections for people to establish relationships with each other."
   ]
  }
 ],
 "metadata": {
  "kernelspec": {
   "display_name": "Python 3 (ipykernel)",
   "language": "python",
   "name": "python3"
  },
  "language_info": {
   "codemirror_mode": {
    "name": "ipython",
    "version": 3
   },
   "file_extension": ".py",
   "mimetype": "text/x-python",
   "name": "python",
   "nbconvert_exporter": "python",
   "pygments_lexer": "ipython3",
   "version": "3.11.6"
  }
 },
 "nbformat": 4,
 "nbformat_minor": 5
}
