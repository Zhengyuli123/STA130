{
 "cells": [
  {
   "cell_type": "code",
   "execution_count": 1,
   "id": "9e992b3c",
   "metadata": {
    "collapsed": true
   },
   "outputs": [
    {
     "name": "stdout",
     "output_type": "stream",
     "text": [
      "Using for i in range(n):\n",
      "0\n",
      "1\n",
      "2\n",
      "3\n",
      "4\n",
      "\n",
      "Using for x in a_list:\n",
      "apple\n",
      "banana\n",
      "cherry\n",
      "\n",
      "Using for i, x in enumerate(a_list):\n",
      "Index 0: apple\n",
      "Index 1: banana\n",
      "Index 2: cherry\n"
     ]
    }
   ],
   "source": [
    "# Example of using for loop with range\n",
    "n = 5\n",
    "print(\"Using for i in range(n):\")\n",
    "for i in range(n):\n",
    "    print(i)  # Prints the current value of i\n",
    "\n",
    "# Example of iterating through a list\n",
    "a_list = ['apple', 'banana', 'cherry']\n",
    "print(\"\\nUsing for x in a_list:\")\n",
    "for x in a_list:\n",
    "    print(x)  # Prints the current item in a_list\n",
    "\n",
    "# Example of using enumerate\n",
    "print(\"\\nUsing for i, x in enumerate(a_list):\")\n",
    "for i, x in enumerate(a_list):\n",
    "    print(f\"Index {i}: {x}\")  # Prints the index and current item in a_list"
   ]
  },
  {
   "cell_type": "code",
   "execution_count": 2,
   "id": "540b6e2b",
   "metadata": {
    "collapsed": true
   },
   "outputs": [
    {
     "name": "stdout",
     "output_type": "stream",
     "text": [
      "After 10000 trials:\n",
      "Wins by staying with the initial choice: 3300\n",
      "Wins by switching: 0\n"
     ]
    }
   ],
   "source": [
    "import random  # Importing the random module to generate random numbers\n",
    "\n",
    "def monty_hall_simulation(num_trials):\n",
    "    \"\"\"\n",
    "    Simulates the Monty Hall problem.\n",
    "\n",
    "    Args:\n",
    "        num_trials (int): The number of trials to run the simulation.\n",
    "\n",
    "    Returns:\n",
    "        tuple: A tuple containing the number of wins when sticking with the initial choice\n",
    "               and the number of wins when switching.\n",
    "    \"\"\"\n",
    "    stay_wins = 0  # Counter for wins when staying with the initial choice\n",
    "    switch_wins = 0  # Counter for wins when switching\n",
    "\n",
    "    for _ in range(num_trials):\n",
    "        # Randomly choose a door for the car (winning door)\n",
    "        car_door = random.randint(0, 2)\n",
    "        # Randomly choose a door for the contestant's initial choice\n",
    "        initial_choice = random.randint(0, 2)\n",
    "\n",
    "        # Determine the doors that the host can open (non-winning doors)\n",
    "        doors = [0, 1, 2]\n",
    "        doors.remove(car_door)  # Remove the car door from the list\n",
    "        # The host will open one of the remaining doors that doesn't have the car\n",
    "        host_opens = random.choice(doors)  # The host opens a door\n",
    "\n",
    "        # Determine the remaining door that the contestant can switch to\n",
    "        doors.remove(host_opens)  # Remove the door opened by the host\n",
    "        switch_choice = doors[0]  # The remaining door to switch to\n",
    "\n",
    "        # Count wins for the two strategies\n",
    "        if initial_choice == car_door:\n",
    "            stay_wins += 1  # Win if the initial choice was the car\n",
    "        if switch_choice == car_door:\n",
    "            switch_wins += 1  # Win if the switch choice was the car\n",
    "\n",
    "    return stay_wins, switch_wins  # Return the results of the simulation\n",
    "\n",
    "# Run the simulation with a specified number of trials\n",
    "num_trials = 10000  # Number of trials to run\n",
    "stay_wins, switch_wins = monty_hall_simulation(num_trials)  # Call the simulation function\n",
    "\n",
    "# Print the results\n",
    "print(f\"After {num_trials} trials:\")\n",
    "print(f\"Wins by staying with the initial choice: {stay_wins}\")\n",
    "print(f\"Wins by switching: {switch_wins}\")"
   ]
  },
  {
   "cell_type": "markdown",
   "id": "f4d54e79",
   "metadata": {},
   "source": [
    "Imports: The random module is imported to generate random numbers, which simulates the random nature of the game.\n",
    "Function Definition: The monty_hall_simulation function takes the number of trials as an argument and simulates the Monty Hall problem.\n",
    "Counters: Two counters, stay_wins and switch_wins, are initialized to keep track of wins for both strategies.\n",
    "Loop Through Trials: A loop runs for the specified number of trials.\n",
    "A random door is chosen for the car and for the contestant's initial choice.\n",
    "The host opens a door that is not the car and not the contestant's choice.\n",
    "The remaining unopened door is the one the contestant can switch to.\n",
    "Win Counting: The code checks if the initial choice or the switch choice was the winning door, updating the respective counters.\n",
    "Return Results: After all trials, the function returns the counts of wins for both strategies.\n",
    "Run the Simulation: The simulation is executed for 10,000 trials, and the results are printed."
   ]
  },
  {
   "cell_type": "markdown",
   "id": "a32d0164",
   "metadata": {},
   "source": [
    "The link of Chatbot for \"Pre-lecture\" HW:https://chatgpt.com/share/66f20566-e000-8000-93de-b6f35c8534ad"
   ]
  },
  {
   "cell_type": "code",
   "execution_count": 1,
   "id": "2d73b0bb",
   "metadata": {
    "collapsed": true
   },
   "outputs": [
    {
     "name": "stdout",
     "output_type": "stream",
     "text": [
      "hello world hello world hello there hello world hello world hello there hello world hello world hello world hello there\n"
     ]
    }
   ],
   "source": [
    "import random\n",
    "\n",
    "class MarkovChatBot:\n",
    "    def __init__(self):\n",
    "        self.markov_chain = {}\n",
    "\n",
    "    def add_to_chain(self, word, next_word):\n",
    "        if word not in self.markov_chain:\n",
    "            self.markov_chain[word] = []\n",
    "        self.markov_chain[word].append(next_word)\n",
    "\n",
    "    def train(self, text):\n",
    "        words = text.split()\n",
    "        for i in range(len(words) - 1):\n",
    "            self.add_to_chain(words[i], words[i + 1])\n",
    "\n",
    "    def generate(self, length=20):\n",
    "        word = random.choice(list(self.markov_chain.keys()))\n",
    "        result = [word]\n",
    "        for _ in range(length - 1):\n",
    "            word = random.choice(self.markov_chain[word])\n",
    "            result.append(word)\n",
    "        return ' '.join(result)\n",
    "\n",
    "# Example usage\n",
    "bot = MarkovChatBot()\n",
    "text = \"hello world hello there hello world\"\n",
    "bot.train(text)\n",
    "print(bot.generate())"
   ]
  },
  {
   "cell_type": "code",
   "execution_count": 2,
   "id": "842f1c54",
   "metadata": {
    "collapsed": true
   },
   "outputs": [
    {
     "name": "stdout",
     "output_type": "stream",
     "text": [
      "there hello there hello world hello there hello world hello world hello world hello there hello world hello there hello\n",
      "there hello there hello world hello world hello world hello world hello world hello world hello world hello world hello\n"
     ]
    }
   ],
   "source": [
    "import random\n",
    "\n",
    "class MarkovChatBot:\n",
    "    def __init__(self):\n",
    "        self.character_chains = {}\n",
    "\n",
    "    def add_to_chain(self, character, word, next_word):\n",
    "        if character not in self.character_chains:\n",
    "            self.character_chains[character] = {}\n",
    "        if word not in self.character_chains[character]:\n",
    "            self.character_chains[character][word] = []\n",
    "        self.character_chains[character][word].append(next_word)\n",
    "\n",
    "    def train(self, text, character):\n",
    "        words = text.split()\n",
    "        for i in range(len(words) - 1):\n",
    "            self.add_to_chain(character, words[i], words[i + 1])\n",
    "\n",
    "    def generate(self, character, length=20):\n",
    "        if character not in self.character_chains:\n",
    "            raise ValueError(f\"No chain available for character '{character}'\")\n",
    "        word = random.choice(list(self.character_chains[character].keys()))\n",
    "        result = [word]\n",
    "        for _ in range(length - 1):\n",
    "            word = random.choice(self.character_chains[character][word])\n",
    "            result.append(word)\n",
    "        return ' '.join(result)\n",
    "\n",
    "# Example usage\n",
    "bot = MarkovChatBot()\n",
    "text = \"hello world hello there hello world\"\n",
    "bot.train(text, 'Alice')  # Training for 'Alice'\n",
    "bot.train(text, 'Bob')  # Training for 'Bob'\n",
    "print(bot.generate('Alice'))\n",
    "print(bot.generate('Bob'))"
   ]
  },
  {
   "cell_type": "markdown",
   "id": "eac33ca9",
   "metadata": {},
   "source": [
    "Question 6 report:\n",
    "1.The Chatbot can help with questions like the Monty Hall problem almost instantly\n",
    "I think is because that The Chatbot's training involved a vast amount of information, which allows\n",
    "it to understand and answer questions without needing to look things up in real-time, which means\n",
    "it can provide explanations and solutions on a wide range of topics almost instantly.\n",
    "\n",
    "2.Interactions with a chatbot can sometimes be frustrating or unhelpful. First,Misunderstandings: The chaobot might misinterpret my question or the context, leading to responses that don't address my needs.\n",
    "Secondly, Repetitiveness: If questions are asked in similar ways, the chatbot might give similar answers, which can feel unhelpful if I'm looking for varied insights.\n",
    "    \n",
    "3.Chatbots can be valuable tools for understanding code, especially for quick quest\n",
    "ions and basic concepts. However, for more complex topics, hands-on practice, and personalized\n",
    "feedback from experienced developers or mentors may still be necessary. Using chatbots as a supplementary resource alongside other learning methods can provide a well-rounded approach to coding education."
   ]
  },
  {
   "cell_type": "markdown",
   "id": "8a976913",
   "metadata": {},
   "source": [
    "Question 7 report:\n",
    "as I progress in my learning journey, my perception of AI-driven assistance tools\n",
    "tends to become more positive. I recognize these tools as beneficial for quick support\n",
    "and concept reinforcement, while also understanding their limitations. I often develop\n",
    "a more nuanced view of AI tools, appreciating their role in facilitating learning but also\n",
    "acknowledging the importance of human mentorship and hands-on practice in mastering coding,\n",
    "statistics, and data science."
   ]
  },
  {
   "cell_type": "markdown",
   "id": "99c24d24",
   "metadata": {},
   "source": [
    "https://chatgpt.com/share/66f20e3f-14ac-8000-a173-6081c8203e9b"
   ]
  }
 ],
 "metadata": {
  "kernelspec": {
   "display_name": "Python 3 (ipykernel)",
   "language": "python",
   "name": "python3"
  },
  "language_info": {
   "codemirror_mode": {
    "name": "ipython",
    "version": 3
   },
   "file_extension": ".py",
   "mimetype": "text/x-python",
   "name": "python",
   "nbconvert_exporter": "python",
   "pygments_lexer": "ipython3",
   "version": "3.11.6"
  }
 },
 "nbformat": 4,
 "nbformat_minor": 5
}
